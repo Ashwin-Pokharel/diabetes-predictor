{
 "cells": [
  {
   "cell_type": "code",
   "execution_count": 1,
   "metadata": {},
   "outputs": [],
   "source": [
    "import tensorflow as tf\n",
    "import pandas as pd\n",
    "import numpy as np\n",
    "from sklearn import preprocessing\n",
    "from sklearn.model_selection import train_test_split\n",
    "from pickle import dump"
   ]
  },
  {
   "cell_type": "code",
   "execution_count": 2,
   "metadata": {
    "tags": []
   },
   "outputs": [
    {
     "output_type": "stream",
     "name": "stdout",
     "text": "Pregnancies                   int64\nGlucose                       int64\nBloodPressure                 int64\nSkinThickness                 int64\nInsulin                       int64\nBMI                         float64\nDiabetesPedigreeFunction    float64\nAge                           int64\nOutcome                       int64\ndtype: object\n"
    }
   ],
   "source": [
    "data = pd.read_csv('diabetes.csv')\n",
    "data , test_data = train_test_split(data, test_size=0.2) \n",
    "print(data.dtypes)"
   ]
  },
  {
   "cell_type": "code",
   "execution_count": 3,
   "metadata": {
    "tags": []
   },
   "outputs": [],
   "source": [
    "def normalize(data:pd.DataFrame):\n",
    "    scaler = preprocessing.MinMaxScaler()\n",
    "    data[['Pregnancies' , 'Glucose', 'BloodPressure' , 'SkinThickness' , 'Insulin', 'BMI','DiabetesPedigreeFunction','Age']] = scaler.fit_transform(data[['Pregnancies' , 'Glucose', 'BloodPressure' , 'SkinThickness' , 'Insulin', 'BMI','DiabetesPedigreeFunction','Age']].to_numpy())\n",
    "    dump(scaler , open(\"MinMaxScaler.pkl\" , \"wb\"))\n",
    "    return data\n"
   ]
  },
  {
   "cell_type": "code",
   "execution_count": 4,
   "metadata": {},
   "outputs": [
    {
     "output_type": "execute_result",
     "data": {
      "text/plain": "<bound method NDFrame.head of      Pregnancies   Glucose  BloodPressure  SkinThickness   Insulin       BMI  \\\n335     0.000000  0.829146       0.622951       0.434343  0.301418  0.713860   \n161     0.411765  0.512563       0.606557       0.404040  0.124113  0.554396   \n405     0.117647  0.618090       0.393443       0.323232  0.195035  0.627422   \n724     0.058824  0.557789       0.770492       0.000000  0.000000  0.488823   \n15      0.411765  0.502513       0.000000       0.000000  0.000000  0.447094   \n\n     DiabetesPedigreeFunction       Age  Outcome  \n335                  0.077284  0.098039        0  \n161                  0.053800  0.470588        0  \n405                  0.188728  0.098039        0  \n724                  0.079846  0.470588        0  \n15                   0.173356  0.215686        1  >"
     },
     "metadata": {},
     "execution_count": 4
    }
   ],
   "source": [
    "normalize(data)\n",
    "data[:5].head"
   ]
  },
  {
   "cell_type": "code",
   "execution_count": 5,
   "metadata": {},
   "outputs": [
    {
     "output_type": "execute_result",
     "data": {
      "text/plain": "335    0\n161    0\n405    0\n724    0\n15     1\n      ..\n223    0\n644    0\n725    0\n525    0\n345    0\nName: Outcome, Length: 614, dtype: int64"
     },
     "metadata": {},
     "execution_count": 5
    }
   ],
   "source": [
    "target = data['Outcome']\n",
    "data.pop('Outcome')"
   ]
  },
  {
   "cell_type": "code",
   "execution_count": 6,
   "metadata": {},
   "outputs": [],
   "source": [
    "def get_compiled_model():\n",
    "    model = tf.keras.Sequential([\n",
    "    tf.keras.layers.Dense(8 ,activation='relu'),\n",
    "    tf.keras.layers.Dense(4, activation='relu'),\n",
    "    tf.keras.layers.Dense(1,activation='tanh')\n",
    "  ])\n",
    "\n",
    "    model.compile(optimizer='adam',\n",
    "                loss=tf.keras.losses.BinaryCrossentropy(from_logits=True),\n",
    "                metrics=['accuracy'],)\n",
    "    return model\n"
   ]
  },
  {
   "cell_type": "code",
   "execution_count": 7,
   "metadata": {
    "tags": []
   },
   "outputs": [
    {
     "output_type": "stream",
     "name": "stdout",
     "text": "features: [[0.35294118 0.95477387 0.75409836 0.         0.         0.5290611\n  0.0853971  0.88235294]] targets: [1]\nfeatures: [[0.05882353 0.65326633 0.57377049 0.13131313 0.12411348 0.38599106\n  0.16823228 0.01960784]] targets: [0]\nfeatures: [[0.17647059 0.69849246 0.44262295 0.         0.         0.38152012\n  0.1383433  0.01960784]] targets: [1]\nfeatures: [[0.17647059 0.44221106 0.47540984 0.11111111 0.06382979 0.36959762\n  0.08070026 0.01960784]] targets: [0]\nfeatures: [[0.         0.52261307 0.52459016 0.23232323 0.13711584 0.414307\n  0.16054654 0.03921569]] targets: [0]\n"
    }
   ],
   "source": [
    "train_dataset = tf.data.Dataset.from_tensor_slices((data.values , target.values))\n",
    "train_dataset = train_dataset.shuffle(len(data)).batch(1)\n",
    "for feat , targ in train_dataset.take(5):\n",
    "    print(\"features: {0} targets: {1}\".format(feat , targ))"
   ]
  },
  {
   "cell_type": "code",
   "execution_count": 8,
   "metadata": {
    "tags": []
   },
   "outputs": [
    {
     "output_type": "stream",
     "name": "stdout",
     "text": "Epoch 1/20\nWARNING:tensorflow:Layer dense is casting an input tensor from dtype float64 to the layer's dtype of float32, which is new behavior in TensorFlow 2.  The layer has dtype float32 because its dtype defaults to floatx.\n\nIf you intended to run this layer in float32, you can safely ignore this warning. If in doubt, this warning is likely only an issue if you are porting a TensorFlow 1.X model to TensorFlow 2.\n\nTo change all layers to have dtype float64 by default, call `tf.keras.backend.set_floatx('float64')`. To change just this layer, pass dtype='float64' to the layer constructor. If you are the author of this layer, you can disable autocasting by passing autocast=False to the base Layer constructor.\n\n614/614 [==============================] - 0s 514us/step - loss: 0.6828 - accuracy: 0.6466\nEpoch 2/20\n614/614 [==============================] - 0s 528us/step - loss: 0.6676 - accuracy: 0.6466\nEpoch 3/20\n614/614 [==============================] - 0s 507us/step - loss: 0.6535 - accuracy: 0.6466\nEpoch 4/20\n614/614 [==============================] - 0s 447us/step - loss: 0.6329 - accuracy: 0.6466\nEpoch 5/20\n614/614 [==============================] - 0s 488us/step - loss: 0.6231 - accuracy: 0.6466\nEpoch 6/20\n614/614 [==============================] - 0s 566us/step - loss: 0.6146 - accuracy: 0.6466\nEpoch 7/20\n614/614 [==============================] - 0s 543us/step - loss: 0.5990 - accuracy: 0.6466\nEpoch 8/20\n614/614 [==============================] - 0s 581us/step - loss: 0.5779 - accuracy: 0.6531\nEpoch 9/20\n614/614 [==============================] - 0s 496us/step - loss: 0.5643 - accuracy: 0.6840\nEpoch 10/20\n614/614 [==============================] - 0s 499us/step - loss: 0.5581 - accuracy: 0.7036\nEpoch 11/20\n614/614 [==============================] - 0s 706us/step - loss: 0.5536 - accuracy: 0.7134\nEpoch 12/20\n614/614 [==============================] - 0s 588us/step - loss: 0.5484 - accuracy: 0.7264\nEpoch 13/20\n614/614 [==============================] - 0s 783us/step - loss: 0.5426 - accuracy: 0.7296\nEpoch 14/20\n614/614 [==============================] - 0s 753us/step - loss: 0.5391 - accuracy: 0.7329\nEpoch 15/20\n614/614 [==============================] - 0s 614us/step - loss: 0.5367 - accuracy: 0.7427\nEpoch 16/20\n614/614 [==============================] - 0s 526us/step - loss: 0.5343 - accuracy: 0.7443\nEpoch 17/20\n614/614 [==============================] - 0s 522us/step - loss: 0.5304 - accuracy: 0.7557\nEpoch 18/20\n614/614 [==============================] - 0s 453us/step - loss: 0.5303 - accuracy: 0.7492\nEpoch 19/20\n614/614 [==============================] - 0s 498us/step - loss: 0.5278 - accuracy: 0.7590\nEpoch 20/20\n614/614 [==============================] - 0s 490us/step - loss: 0.5256 - accuracy: 0.7476\n"
    },
    {
     "output_type": "execute_result",
     "data": {
      "text/plain": "<tensorflow.python.keras.callbacks.History at 0x7f86c94cb9a0>"
     },
     "metadata": {},
     "execution_count": 8
    }
   ],
   "source": [
    "model = get_compiled_model()\n",
    "model.fit(train_dataset , epochs=20)"
   ]
  },
  {
   "cell_type": "code",
   "execution_count": 9,
   "metadata": {},
   "outputs": [
    {
     "output_type": "execute_result",
     "data": {
      "text/plain": "<bound method NDFrame.head of      Pregnancies   Glucose  BloodPressure  SkinThickness   Insulin       BMI  \\\n479     0.333333  0.539007       0.811321       0.574074  0.000000  0.535373   \n647     0.000000  0.872340       0.471698       0.666667  0.213710  0.722753   \n662     0.666667  0.787234       1.000000       0.851852  0.310484  0.718929   \n381     0.000000  0.347518       0.641509       0.407407  0.000000  0.382409   \n570     0.250000  0.156028       0.660377       0.000000  0.000000  0.621415   \n..           ...       ...            ...            ...       ...       ...   \n38      0.166667  0.241135       0.641509       0.777778  0.000000  0.730402   \n333     1.000000  0.354610       0.754717       0.000000  0.000000  0.451243   \n618     0.750000  0.397163       0.773585       0.444444  0.000000  0.539197   \n536     0.000000  0.347518       0.849057       0.000000  0.000000  0.565966   \n459     0.750000  0.553191       0.698113       0.611111  0.080645  0.495220   \n\n     DiabetesPedigreeFunction       Age  Outcome  \n479                  0.148841  0.700000        0  \n647                  0.164884  0.016667        1  \n662                  0.035651  0.366667        1  \n381                  0.067291  0.016667        0  \n570                  0.082442  0.300000        0  \n..                        ...       ...      ...  \n38                   0.186275  0.100000        1  \n333                  0.023173  0.383333        0  \n618                  0.533422  0.483333        1  \n536                  0.049911  0.416667        0  \n459                  0.167112  1.000000        0  \n\n[154 rows x 9 columns]>"
     },
     "metadata": {},
     "execution_count": 9
    }
   ],
   "source": [
    "test_data = normalize(test_data)\n",
    "test_data.head"
   ]
  },
  {
   "cell_type": "code",
   "execution_count": 10,
   "metadata": {},
   "outputs": [],
   "source": [
    "new_target = test_data.pop('Outcome')\n",
    "test_dataset = tf.data.Dataset.from_tensor_slices((test_data.values , new_target.values))\n",
    "test_dataset = test_dataset.shuffle(len(data)).batch(1)\n",
    "\n"
   ]
  },
  {
   "cell_type": "code",
   "execution_count": 11,
   "metadata": {
    "tags": []
   },
   "outputs": [
    {
     "output_type": "stream",
     "name": "stdout",
     "text": "154/154 [==============================] - 0s 385us/step - loss: 0.5728 - accuracy: 0.7532\ntest loss, test acc: [0.5728100538253784, 0.7532467246055603]\n"
    }
   ],
   "source": [
    "results = model.evaluate(test_dataset)\n",
    "print(\"test loss, test acc:\", results)"
   ]
  },
  {
   "cell_type": "code",
   "execution_count": 12,
   "metadata": {
    "tags": []
   },
   "outputs": [
    {
     "output_type": "stream",
     "name": "stdout",
     "text": "WARNING:tensorflow:From /Users/apokhar/Desktop/capstone/venv/lib/python3.8/site-packages/tensorflow/python/training/tracking/tracking.py:111: Model.state_updates (from tensorflow.python.keras.engine.training) is deprecated and will be removed in a future version.\nInstructions for updating:\nThis property should not be used in TensorFlow 2.0, as updates are applied automatically.\nWARNING:tensorflow:From /Users/apokhar/Desktop/capstone/venv/lib/python3.8/site-packages/tensorflow/python/training/tracking/tracking.py:111: Layer.updates (from tensorflow.python.keras.engine.base_layer) is deprecated and will be removed in a future version.\nInstructions for updating:\nThis property should not be used in TensorFlow 2.0, as updates are applied automatically.\nINFO:tensorflow:Assets written to: \\models/assets\n"
    }
   ],
   "source": [
    "model.save('\\models')"
   ]
  },
  {
   "cell_type": "code",
   "execution_count": 13,
   "metadata": {
    "tags": []
   },
   "outputs": [
    {
     "output_type": "stream",
     "name": "stdout",
     "text": "1/1 [==============================] - 0s 810us/step\n"
    },
    {
     "output_type": "execute_result",
     "data": {
      "text/plain": "array([[-0.8543557]], dtype=float32)"
     },
     "metadata": {},
     "execution_count": 13
    }
   ],
   "source": [
    "model.predict( [[0.06666666666666667, 0.4358974358974359, 0.6, 0.537037037037037, 0.0, 0.569593147751606, 0.127867252318204, 0.20833333333333326]] , verbose=1)"
   ]
  },
  {
   "cell_type": "code",
   "execution_count": null,
   "metadata": {
    "tags": []
   },
   "outputs": [],
   "source": []
  },
  {
   "cell_type": "code",
   "execution_count": null,
   "metadata": {},
   "outputs": [],
   "source": []
  }
 ],
 "metadata": {
  "kernelspec": {
   "display_name": "captstoneML",
   "language": "python",
   "name": "captstoneml"
  },
  "language_info": {
   "codemirror_mode": {
    "name": "ipython",
    "version": 3
   },
   "file_extension": ".py",
   "mimetype": "text/x-python",
   "name": "python",
   "nbconvert_exporter": "python",
   "pygments_lexer": "ipython3",
   "version": "3.8.0-final"
  }
 },
 "nbformat": 4,
 "nbformat_minor": 4
}